{
  "cells": [
    {
      "cell_type": "markdown",
      "id": "4732bbe8",
      "metadata": {},
      "source": [
        "# Kernel Conservation Report\n",
        "\n",
        "This notebook sweeps kernel parameters and evaluates:\n",
        "\n",
        "- Per-step **energy drift** (conservation check)\n",
        "- **Particle** and **field** yields\n",
        "- Heatmaps over phase and cancellation efficiency\n",
        "\n",
        "**Prereqs**: Your patched kernel (`PTKKernel`, `Sound`, `EmissionConfig`) and `ptk.v1.json` should be available. If your kernel lives at `pt-sim/pt_sim/ptk_kernel.py`, this notebook will import it. Otherwise it falls back to a local `ptk_kernel_patched.py` if present."
      ]
    },
    {
      "cell_type": "code",
      "execution_count": null,
      "id": "592ca742",
      "metadata": {},
      "outputs": [],
      "source": [
        "# Imports & setup\n",
        "import os, sys, json, math, numpy as np\n",
        "import matplotlib.pyplot as plt\n",
        "\n",
        "# Try to import kernel from package; fallback to a local file if needed\n",
        "KernelSource = None\n",
        "try:\n",
        "    from pt_sim.ptk_kernel import PTKKernel, Sound, EmissionConfig\n",
        "    KernelSource = 'pt_sim.ptk_kernel'\n",
        "except Exception as e:\n",
        "    print('[Info] Could not import pt_sim.ptk_kernel:', e)\n",
        "    if os.path.exists(os.path.join(os.getcwd(), 'ptk_kernel_patched.py')):\n",
        "        from ptk_kernel_patched import PTKKernel, Sound, EmissionConfig\n",
        "        KernelSource = 'ptk_kernel_patched.py'\n",
        "    else:\n",
        "        raise RuntimeError('Kernel not found. Ensure pt-sim/pt_sim/ptk_kernel.py is importable or place ptk_kernel_patched.py next to this notebook.')\n",
        "\n",
        "print('Using kernel from:', KernelSource)\n",
        "\n",
        "# Load PTK kernel JSON (adjust path if needed)\n",
        "PTK_JSON_PATH = os.environ.get('PTK_JSON_PATH', 'ptk.v1.json')\n",
        "with open(PTK_JSON_PATH, 'r', encoding='utf-8') as f:\n",
        "    ptk = json.load(f)\n",
        "K = PTKKernel(ptk)\n",
        "print('Loaded PTK with', len(ptk['nodes']), 'nodes and', len(ptk['edges']), 'edges')"
      ]
    },
    {
      "cell_type": "markdown",
      "id": "ddd42f72",
      "metadata": {},
      "source": [
        "## Single-run helper\n",
        "Runs one emission with a given phase and cancellation efficiency, returns the kernel result + per-step drift array."
      ]
    },
    {
      "cell_type": "code",
      "execution_count": null,
      "id": "24efa597",
      "metadata": {},
      "outputs": [],
      "source": [
        "def run_once(phase, cancel_eff=0.7, max_steps=20, seed=123):\n",
        "    pos = [Sound('n1', +1, 5.0, 440.0, 0.0, 0.9, 'P1')]\n",
        "    neg = [Sound('n4', -1, 5.0, 440.0, phase, 0.9, 'N1')]\n",
        "    cfg = EmissionConfig(max_steps=max_steps, cancel_efficiency=cancel_eff, conservation_tol=1e-4, rng_seed=seed)\n",
        "    res = K.simulate_emission(pos, neg, cfg)\n",
        "    drift = np.array([s.get('drift_rel', 0.0) for s in res['ledger']['steps']], dtype=float)\n",
        "    return res, drift"
      ]
    },
    {
      "cell_type": "markdown",
      "id": "e9eabe05",
      "metadata": {},
      "source": [
        "## 1D sweep: phase ∈ [0, 2π]\n",
        "We vary relative phase between + and − lobes and track conservation drift and yields."
      ]
    },
    {
      "cell_type": "code",
      "execution_count": null,
      "id": "dc2260ed",
      "metadata": {},
      "outputs": [],
      "source": [
        "phases = np.linspace(0, 2*np.pi, 25)\n",
        "drift_means, y_particles, y_fields = [], [], []\n",
        "for ph in phases:\n",
        "    res, drift = run_once(ph)\n",
        "    drift_means.append(float(drift.mean()) if drift.size else 0.0)\n",
        "    y_particles.append(len(res['particles']))\n",
        "    y_fields.append(len(res['fields']))\n",
        "\n",
        "plt.figure(figsize=(12,4))\n",
        "plt.subplot(1,3,1); plt.plot(phases, drift_means); plt.title('Mean drift vs phase'); plt.xlabel('phase [rad]'); plt.ylabel('mean drift')\n",
        "plt.subplot(1,3,2); plt.plot(phases, y_particles); plt.title('#particles vs phase'); plt.xlabel('phase [rad]')\n",
        "plt.subplot(1,3,3); plt.plot(phases, y_fields); plt.title('#fields vs phase'); plt.xlabel('phase [rad]')\n",
        "plt.tight_layout(); plt.show()"
      ]
    },
    {
      "cell_type": "markdown",
      "id": "b0b997b3",
      "metadata": {},
      "source": [
        "## 2D sweep: (phase, cancel_efficiency)\n",
        "Heatmaps for particle count, field count, and mean drift over a grid."
      ]
    },
    {
      "cell_type": "code",
      "execution_count": null,
      "id": "1984dd80",
      "metadata": {},
      "outputs": [],
      "source": [
        "cancs = np.linspace(0.4, 0.9, 9)\n",
        "grid_particles = np.zeros((len(cancs), len(phases)), dtype=float)\n",
        "grid_fields    = np.zeros_like(grid_particles)\n",
        "grid_drift     = np.zeros_like(grid_particles)\n",
        "\n",
        "for i, c_eff in enumerate(cancs):\n",
        "    for j, ph in enumerate(phases):\n",
        "        res, drift = run_once(ph, cancel_eff=c_eff)\n",
        "        grid_particles[i, j] = len(res['particles'])\n",
        "        grid_fields[i, j]    = len(res['fields'])\n",
        "        grid_drift[i, j]     = float(drift.mean()) if drift.size else 0.0\n",
        "\n",
        "def imshow_grid(G, title):\n",
        "    plt.figure(figsize=(8,4))\n",
        "    plt.imshow(G, aspect='auto', origin='lower',\n",
        "               extent=[phases.min(), phases.max(), cancs.min(), cancs.max()])\n",
        "    plt.colorbar(); plt.title(title); plt.xlabel('phase [rad]'); plt.ylabel('cancel_efficiency')\n",
        "    plt.show()\n",
        "\n",
        "imshow_grid(grid_particles, '#particles')\n",
        "imshow_grid(grid_fields, '#fields')\n",
        "imshow_grid(grid_drift, 'mean drift')"
      ]
    },
    {
      "cell_type": "markdown",
      "id": "d30834a8",
      "metadata": {},
      "source": [
        "## Energy accounting snapshot\n",
        "Peek into the ledger for one configuration to verify fields like `packets_energy_before/after`, `drift_rel`, etc."
      ]
    },
    {
      "cell_type": "code",
      "execution_count": null,
      "id": "340c2b36",
      "metadata": {},
      "outputs": [],
      "source": [
        "res_one, drift_one = run_once(phase=math.pi)\n",
        "print('Steps:', res_one['steps'])\n",
        "print('First 3 step records:')\n",
        "for s in res_one['ledger']['steps'][:3]:\n",
        "    print(s)\n",
        "print('Final ledger:', res_one['ledger']['final'])"
      ]
    }
  ],
  "metadata": {
    "kernelspec": {
      "display_name": "Python 3",
      "language": "python",
      "name": "python3"
    },
    "language_info": {
      "name": "python",
      "version": "3.x"
    }
  },
  "nbformat": 4,
  "nbformat_minor": 5
}
